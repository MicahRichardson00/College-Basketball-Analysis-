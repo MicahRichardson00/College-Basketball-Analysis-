{
  "nbformat": 4,
  "nbformat_minor": 0,
  "metadata": {
    "colab": {
      "provenance": []
    },
    "kernelspec": {
      "name": "python3",
      "display_name": "Python 3"
    },
    "language_info": {
      "name": "python"
    }
  },
  "cells": [
    {
      "cell_type": "markdown",
      "source": [
        "Can you predict the top team's number of wins based on their past 2, 3, and free throw shooting performance?\n",
        "\n",
        "Author: Micah Richardson"
      ],
      "metadata": {
        "id": "sCkbyX3BMbBa"
      }
    },
    {
      "cell_type": "code",
      "execution_count": 122,
      "metadata": {
        "id": "mRAnwm1P_OGm"
      },
      "outputs": [],
      "source": [
        "# for inline plots in notebooks (you may need them on some platforms)\n",
        "%matplotlib inline\n",
        "# for latex equations\n",
        "from IPython.display import Math, Latex\n",
        "# for displaying images\n",
        "from IPython.core.display import Image\n",
        "\n",
        "# import matplotlib\n",
        "import matplotlib.pyplot as plt\n",
        "# import seaborn\n",
        "import seaborn as sns\n",
        "# settings for seaborn plotting style\n",
        "sns.set(color_codes=True)\n",
        "# settings for seaborn plot sizes\n",
        "sns.set(rc={'figure.figsize':(5,5)})\n",
        "\n",
        "import numpy as np\n",
        "import pandas as pd\n",
        "from scipy.stats import pearsonr\n",
        "from scipy import stats"
      ]
    },
    {
      "cell_type": "code",
      "source": [
        "from google.colab import drive\n",
        "drive.mount('/content/gdrive')\n",
        "\n",
        "#0b Change into diorectiry where data files are\n",
        "%cd /content/gdrive/MyDrive/Busi488/Section002"
      ],
      "metadata": {
        "colab": {
          "base_uri": "https://localhost:8080/"
        },
        "id": "nfe81IkpCYXx",
        "outputId": "66fbde67-ea20-4b4e-c41f-840c8ccd2054"
      },
      "execution_count": 4,
      "outputs": [
        {
          "output_type": "stream",
          "name": "stdout",
          "text": [
            "Mounted at /content/gdrive\n",
            "/content/gdrive/MyDrive/Busi488/Section002\n"
          ]
        }
      ]
    },
    {
      "cell_type": "markdown",
      "source": [
        "Initial Data Exploration"
      ],
      "metadata": {
        "id": "YbuSoqQAScAz"
      }
    },
    {
      "cell_type": "markdown",
      "source": [
        "Data From: https://www.kaggle.com/datasets/andrewsundberg/college-basketball-dataset?select=cbb21.csv"
      ],
      "metadata": {
        "id": "usHeXMBTeaW0"
      }
    },
    {
      "cell_type": "code",
      "source": [
        "df = pd.read_csv('cbb.csv')\n",
        "df.head(5)"
      ],
      "metadata": {
        "colab": {
          "base_uri": "https://localhost:8080/",
          "height": 236
        },
        "id": "nXVDFoAojzdy",
        "outputId": "2d09f909-4eb7-4436-bfde-badea0415f36"
      },
      "execution_count": 6,
      "outputs": [
        {
          "output_type": "execute_result",
          "data": {
            "text/plain": [
              "             TEAM CONF   G   W  ADJOE  ADJDE  BARTHAG  EFG_O  EFG_D   TOR  \\\n",
              "0  North Carolina  ACC  40  33  123.3   94.9   0.9531   52.6   48.1  15.4   \n",
              "1       Wisconsin  B10  40  36  129.1   93.6   0.9758   54.8   47.7  12.4   \n",
              "2        Michigan  B10  40  33  114.4   90.4   0.9375   53.9   47.7  14.0   \n",
              "3      Texas Tech  B12  38  31  115.2   85.2   0.9696   53.5   43.0  17.7   \n",
              "4         Gonzaga  WCC  39  37  117.8   86.3   0.9728   56.6   41.1  16.2   \n",
              "\n",
              "   ...  FTRD  2P_O  2P_D  3P_O  3P_D  ADJ_T   WAB  POSTSEASON  SEED  YEAR  \n",
              "0  ...  30.4  53.9  44.6  32.7  36.2   71.7   8.6         2ND   1.0  2016  \n",
              "1  ...  22.4  54.8  44.7  36.5  37.5   59.3  11.3         2ND   1.0  2015  \n",
              "2  ...  30.0  54.7  46.8  35.2  33.2   65.9   6.9         2ND   3.0  2018  \n",
              "3  ...  36.6  52.8  41.9  36.5  29.7   67.5   7.0         2ND   3.0  2019  \n",
              "4  ...  26.9  56.3  40.0  38.2  29.0   71.5   7.7         2ND   1.0  2017  \n",
              "\n",
              "[5 rows x 24 columns]"
            ],
            "text/html": [
              "\n",
              "  <div id=\"df-1730c733-ca63-438e-a563-d9b1cfafc25d\">\n",
              "    <div class=\"colab-df-container\">\n",
              "      <div>\n",
              "<style scoped>\n",
              "    .dataframe tbody tr th:only-of-type {\n",
              "        vertical-align: middle;\n",
              "    }\n",
              "\n",
              "    .dataframe tbody tr th {\n",
              "        vertical-align: top;\n",
              "    }\n",
              "\n",
              "    .dataframe thead th {\n",
              "        text-align: right;\n",
              "    }\n",
              "</style>\n",
              "<table border=\"1\" class=\"dataframe\">\n",
              "  <thead>\n",
              "    <tr style=\"text-align: right;\">\n",
              "      <th></th>\n",
              "      <th>TEAM</th>\n",
              "      <th>CONF</th>\n",
              "      <th>G</th>\n",
              "      <th>W</th>\n",
              "      <th>ADJOE</th>\n",
              "      <th>ADJDE</th>\n",
              "      <th>BARTHAG</th>\n",
              "      <th>EFG_O</th>\n",
              "      <th>EFG_D</th>\n",
              "      <th>TOR</th>\n",
              "      <th>...</th>\n",
              "      <th>FTRD</th>\n",
              "      <th>2P_O</th>\n",
              "      <th>2P_D</th>\n",
              "      <th>3P_O</th>\n",
              "      <th>3P_D</th>\n",
              "      <th>ADJ_T</th>\n",
              "      <th>WAB</th>\n",
              "      <th>POSTSEASON</th>\n",
              "      <th>SEED</th>\n",
              "      <th>YEAR</th>\n",
              "    </tr>\n",
              "  </thead>\n",
              "  <tbody>\n",
              "    <tr>\n",
              "      <th>0</th>\n",
              "      <td>North Carolina</td>\n",
              "      <td>ACC</td>\n",
              "      <td>40</td>\n",
              "      <td>33</td>\n",
              "      <td>123.3</td>\n",
              "      <td>94.9</td>\n",
              "      <td>0.9531</td>\n",
              "      <td>52.6</td>\n",
              "      <td>48.1</td>\n",
              "      <td>15.4</td>\n",
              "      <td>...</td>\n",
              "      <td>30.4</td>\n",
              "      <td>53.9</td>\n",
              "      <td>44.6</td>\n",
              "      <td>32.7</td>\n",
              "      <td>36.2</td>\n",
              "      <td>71.7</td>\n",
              "      <td>8.6</td>\n",
              "      <td>2ND</td>\n",
              "      <td>1.0</td>\n",
              "      <td>2016</td>\n",
              "    </tr>\n",
              "    <tr>\n",
              "      <th>1</th>\n",
              "      <td>Wisconsin</td>\n",
              "      <td>B10</td>\n",
              "      <td>40</td>\n",
              "      <td>36</td>\n",
              "      <td>129.1</td>\n",
              "      <td>93.6</td>\n",
              "      <td>0.9758</td>\n",
              "      <td>54.8</td>\n",
              "      <td>47.7</td>\n",
              "      <td>12.4</td>\n",
              "      <td>...</td>\n",
              "      <td>22.4</td>\n",
              "      <td>54.8</td>\n",
              "      <td>44.7</td>\n",
              "      <td>36.5</td>\n",
              "      <td>37.5</td>\n",
              "      <td>59.3</td>\n",
              "      <td>11.3</td>\n",
              "      <td>2ND</td>\n",
              "      <td>1.0</td>\n",
              "      <td>2015</td>\n",
              "    </tr>\n",
              "    <tr>\n",
              "      <th>2</th>\n",
              "      <td>Michigan</td>\n",
              "      <td>B10</td>\n",
              "      <td>40</td>\n",
              "      <td>33</td>\n",
              "      <td>114.4</td>\n",
              "      <td>90.4</td>\n",
              "      <td>0.9375</td>\n",
              "      <td>53.9</td>\n",
              "      <td>47.7</td>\n",
              "      <td>14.0</td>\n",
              "      <td>...</td>\n",
              "      <td>30.0</td>\n",
              "      <td>54.7</td>\n",
              "      <td>46.8</td>\n",
              "      <td>35.2</td>\n",
              "      <td>33.2</td>\n",
              "      <td>65.9</td>\n",
              "      <td>6.9</td>\n",
              "      <td>2ND</td>\n",
              "      <td>3.0</td>\n",
              "      <td>2018</td>\n",
              "    </tr>\n",
              "    <tr>\n",
              "      <th>3</th>\n",
              "      <td>Texas Tech</td>\n",
              "      <td>B12</td>\n",
              "      <td>38</td>\n",
              "      <td>31</td>\n",
              "      <td>115.2</td>\n",
              "      <td>85.2</td>\n",
              "      <td>0.9696</td>\n",
              "      <td>53.5</td>\n",
              "      <td>43.0</td>\n",
              "      <td>17.7</td>\n",
              "      <td>...</td>\n",
              "      <td>36.6</td>\n",
              "      <td>52.8</td>\n",
              "      <td>41.9</td>\n",
              "      <td>36.5</td>\n",
              "      <td>29.7</td>\n",
              "      <td>67.5</td>\n",
              "      <td>7.0</td>\n",
              "      <td>2ND</td>\n",
              "      <td>3.0</td>\n",
              "      <td>2019</td>\n",
              "    </tr>\n",
              "    <tr>\n",
              "      <th>4</th>\n",
              "      <td>Gonzaga</td>\n",
              "      <td>WCC</td>\n",
              "      <td>39</td>\n",
              "      <td>37</td>\n",
              "      <td>117.8</td>\n",
              "      <td>86.3</td>\n",
              "      <td>0.9728</td>\n",
              "      <td>56.6</td>\n",
              "      <td>41.1</td>\n",
              "      <td>16.2</td>\n",
              "      <td>...</td>\n",
              "      <td>26.9</td>\n",
              "      <td>56.3</td>\n",
              "      <td>40.0</td>\n",
              "      <td>38.2</td>\n",
              "      <td>29.0</td>\n",
              "      <td>71.5</td>\n",
              "      <td>7.7</td>\n",
              "      <td>2ND</td>\n",
              "      <td>1.0</td>\n",
              "      <td>2017</td>\n",
              "    </tr>\n",
              "  </tbody>\n",
              "</table>\n",
              "<p>5 rows × 24 columns</p>\n",
              "</div>\n",
              "      <button class=\"colab-df-convert\" onclick=\"convertToInteractive('df-1730c733-ca63-438e-a563-d9b1cfafc25d')\"\n",
              "              title=\"Convert this dataframe to an interactive table.\"\n",
              "              style=\"display:none;\">\n",
              "        \n",
              "  <svg xmlns=\"http://www.w3.org/2000/svg\" height=\"24px\"viewBox=\"0 0 24 24\"\n",
              "       width=\"24px\">\n",
              "    <path d=\"M0 0h24v24H0V0z\" fill=\"none\"/>\n",
              "    <path d=\"M18.56 5.44l.94 2.06.94-2.06 2.06-.94-2.06-.94-.94-2.06-.94 2.06-2.06.94zm-11 1L8.5 8.5l.94-2.06 2.06-.94-2.06-.94L8.5 2.5l-.94 2.06-2.06.94zm10 10l.94 2.06.94-2.06 2.06-.94-2.06-.94-.94-2.06-.94 2.06-2.06.94z\"/><path d=\"M17.41 7.96l-1.37-1.37c-.4-.4-.92-.59-1.43-.59-.52 0-1.04.2-1.43.59L10.3 9.45l-7.72 7.72c-.78.78-.78 2.05 0 2.83L4 21.41c.39.39.9.59 1.41.59.51 0 1.02-.2 1.41-.59l7.78-7.78 2.81-2.81c.8-.78.8-2.07 0-2.86zM5.41 20L4 18.59l7.72-7.72 1.47 1.35L5.41 20z\"/>\n",
              "  </svg>\n",
              "      </button>\n",
              "      \n",
              "  <style>\n",
              "    .colab-df-container {\n",
              "      display:flex;\n",
              "      flex-wrap:wrap;\n",
              "      gap: 12px;\n",
              "    }\n",
              "\n",
              "    .colab-df-convert {\n",
              "      background-color: #E8F0FE;\n",
              "      border: none;\n",
              "      border-radius: 50%;\n",
              "      cursor: pointer;\n",
              "      display: none;\n",
              "      fill: #1967D2;\n",
              "      height: 32px;\n",
              "      padding: 0 0 0 0;\n",
              "      width: 32px;\n",
              "    }\n",
              "\n",
              "    .colab-df-convert:hover {\n",
              "      background-color: #E2EBFA;\n",
              "      box-shadow: 0px 1px 2px rgba(60, 64, 67, 0.3), 0px 1px 3px 1px rgba(60, 64, 67, 0.15);\n",
              "      fill: #174EA6;\n",
              "    }\n",
              "\n",
              "    [theme=dark] .colab-df-convert {\n",
              "      background-color: #3B4455;\n",
              "      fill: #D2E3FC;\n",
              "    }\n",
              "\n",
              "    [theme=dark] .colab-df-convert:hover {\n",
              "      background-color: #434B5C;\n",
              "      box-shadow: 0px 1px 3px 1px rgba(0, 0, 0, 0.15);\n",
              "      filter: drop-shadow(0px 1px 2px rgba(0, 0, 0, 0.3));\n",
              "      fill: #FFFFFF;\n",
              "    }\n",
              "  </style>\n",
              "\n",
              "      <script>\n",
              "        const buttonEl =\n",
              "          document.querySelector('#df-1730c733-ca63-438e-a563-d9b1cfafc25d button.colab-df-convert');\n",
              "        buttonEl.style.display =\n",
              "          google.colab.kernel.accessAllowed ? 'block' : 'none';\n",
              "\n",
              "        async function convertToInteractive(key) {\n",
              "          const element = document.querySelector('#df-1730c733-ca63-438e-a563-d9b1cfafc25d');\n",
              "          const dataTable =\n",
              "            await google.colab.kernel.invokeFunction('convertToInteractive',\n",
              "                                                     [key], {});\n",
              "          if (!dataTable) return;\n",
              "\n",
              "          const docLinkHtml = 'Like what you see? Visit the ' +\n",
              "            '<a target=\"_blank\" href=https://colab.research.google.com/notebooks/data_table.ipynb>data table notebook</a>'\n",
              "            + ' to learn more about interactive tables.';\n",
              "          element.innerHTML = '';\n",
              "          dataTable['output_type'] = 'display_data';\n",
              "          await google.colab.output.renderOutput(dataTable, element);\n",
              "          const docLink = document.createElement('div');\n",
              "          docLink.innerHTML = docLinkHtml;\n",
              "          element.appendChild(docLink);\n",
              "        }\n",
              "      </script>\n",
              "    </div>\n",
              "  </div>\n",
              "  "
            ]
          },
          "metadata": {},
          "execution_count": 6
        }
      ]
    },
    {
      "cell_type": "code",
      "source": [
        "df.shape"
      ],
      "metadata": {
        "colab": {
          "base_uri": "https://localhost:8080/"
        },
        "id": "unxmHnGeseTd",
        "outputId": "5d055755-40a6-46fe-bd55-22dbd5eb0104"
      },
      "execution_count": 35,
      "outputs": [
        {
          "output_type": "execute_result",
          "data": {
            "text/plain": [
              "(2455, 24)"
            ]
          },
          "metadata": {},
          "execution_count": 35
        }
      ]
    },
    {
      "cell_type": "code",
      "source": [
        "df.info()"
      ],
      "metadata": {
        "colab": {
          "base_uri": "https://localhost:8080/"
        },
        "id": "kVjOckvMqWao",
        "outputId": "0bac0851-32f9-4f12-e0c8-062ef93eb56d"
      },
      "execution_count": 179,
      "outputs": [
        {
          "output_type": "stream",
          "name": "stdout",
          "text": [
            "<class 'pandas.core.frame.DataFrame'>\n",
            "RangeIndex: 347 entries, 0 to 346\n",
            "Data columns (total 22 columns):\n",
            " #   Column   Non-Null Count  Dtype  \n",
            "---  ------   --------------  -----  \n",
            " 0   TEAM     347 non-null    object \n",
            " 1   CONF     347 non-null    object \n",
            " 2   G        347 non-null    int64  \n",
            " 3   W        347 non-null    int64  \n",
            " 4   ADJOE    347 non-null    float64\n",
            " 5   ADJDE    347 non-null    float64\n",
            " 6   BARTHAG  347 non-null    float64\n",
            " 7   EFG_O    347 non-null    float64\n",
            " 8   EFG_D    347 non-null    float64\n",
            " 9   TOR      347 non-null    float64\n",
            " 10  TORD     347 non-null    float64\n",
            " 11  ORB      347 non-null    float64\n",
            " 12  DRB      347 non-null    float64\n",
            " 13  FTR      347 non-null    float64\n",
            " 14  FTRD     347 non-null    float64\n",
            " 15  2P_O     347 non-null    float64\n",
            " 16  2P_D     347 non-null    float64\n",
            " 17  3P_O     347 non-null    float64\n",
            " 18  3P_D     347 non-null    float64\n",
            " 19  ADJ_T    347 non-null    float64\n",
            " 20  WAB      347 non-null    float64\n",
            " 21  SEED     68 non-null     float64\n",
            "dtypes: float64(18), int64(2), object(2)\n",
            "memory usage: 59.8+ KB\n"
          ]
        }
      ]
    },
    {
      "cell_type": "code",
      "source": [
        "wins = df[\"W\"]\n",
        "twopointshots = df[\"2P_O\"]\n",
        "threepointshots = df[\"3P_O\"]\n",
        "freethrows = df[\"FTR\"]\n",
        "\n",
        "\n",
        "print(\"2-Point Shot & Win Correlation:\" + str(round(np.corrcoef(wins, twopointshots)[0][1],2)))\n",
        "print(\"3-Point Shot & Win Correlation:\" + str(round(np.corrcoef(wins, threepointshots)[0][1],2)))\n",
        "print(\"Free throws & Win Correlation:\" + str(round(np.corrcoef(wins, freethrows)[0][1],2)))"
      ],
      "metadata": {
        "colab": {
          "base_uri": "https://localhost:8080/"
        },
        "id": "yTflgcg-oON7",
        "outputId": "bda4d50f-db67-4d5c-f454-de676ab21e9f"
      },
      "execution_count": 139,
      "outputs": [
        {
          "output_type": "stream",
          "name": "stdout",
          "text": [
            "2-Point Shot & Win Correlation:0.54\n",
            "3-Point Shot & Win Correlation:0.4\n",
            "Free throws & Win Correlation:0.1\n"
          ]
        }
      ]
    },
    {
      "cell_type": "code",
      "source": [
        "df.corr()"
      ],
      "metadata": {
        "colab": {
          "base_uri": "https://localhost:8080/",
          "height": 801
        },
        "id": "te5khSY0ygW-",
        "outputId": "4367665e-ff53-482a-dcec-11f0cf64a819"
      },
      "execution_count": 64,
      "outputs": [
        {
          "output_type": "execute_result",
          "data": {
            "text/plain": [
              "                G         W     ADJOE     ADJDE   BARTHAG     EFG_O     EFG_D  \\\n",
              "G        1.000000  0.724819  0.605112 -0.607700  0.693992  0.337732 -0.472541   \n",
              "W        0.724819  1.000000  0.752293 -0.693442  0.827366  0.607659 -0.593197   \n",
              "ADJOE    0.605112  0.752293  1.000000 -0.483926  0.860405  0.732286 -0.294531   \n",
              "ADJDE   -0.607700 -0.693442 -0.483926  1.000000 -0.837534 -0.188506  0.796335   \n",
              "BARTHAG  0.693992  0.827366  0.860405 -0.837534  1.000000  0.534765 -0.616040   \n",
              "EFG_O    0.337732  0.607659  0.732286 -0.188506  0.534765  1.000000 -0.081205   \n",
              "EFG_D   -0.472541 -0.593197 -0.294531  0.796335 -0.616040 -0.081205  1.000000   \n",
              "TOR     -0.320922 -0.450942 -0.612410  0.170778 -0.457690 -0.382608  0.050050   \n",
              "TORD     0.070594  0.139757 -0.135564 -0.264802  0.055207 -0.157895 -0.049485   \n",
              "ORB      0.256390  0.284543  0.238660 -0.300670  0.303319 -0.169523 -0.360943   \n",
              "DRB     -0.193746 -0.370802 -0.282303  0.322735 -0.338129 -0.335819  0.135325   \n",
              "FTR      0.092973  0.145325  0.108035 -0.112217  0.132977 -0.060295 -0.212508   \n",
              "FTRD    -0.262477 -0.325119 -0.343757  0.191314 -0.315761 -0.381692  0.098540   \n",
              "2P_O     0.336933  0.584397  0.656954 -0.222889  0.511439  0.898690 -0.112840   \n",
              "2P_D    -0.429289 -0.524085 -0.289752  0.737463 -0.579509 -0.069942  0.915149   \n",
              "3P_O     0.217423  0.423510  0.572047 -0.078724  0.377816  0.767870 -0.019252   \n",
              "3P_D    -0.359390 -0.475145 -0.186695  0.575623 -0.431773 -0.074900  0.727896   \n",
              "ADJ_T   -0.033146 -0.003791  0.077011  0.224616 -0.077318  0.134885  0.285777   \n",
              "WAB      0.664089  0.911297  0.839252 -0.794511  0.941104  0.551550 -0.614901   \n",
              "SEED    -0.587325 -0.649496 -0.745243  0.697441 -0.826584 -0.238978  0.387082   \n",
              "YEAR     0.038742  0.089155  0.083150  0.092951 -0.002633  0.235415  0.248482   \n",
              "\n",
              "              TOR      TORD       ORB  ...       FTR      FTRD      2P_O  \\\n",
              "G       -0.320922  0.070594  0.256390  ...  0.092973 -0.262477  0.336933   \n",
              "W       -0.450942  0.139757  0.284543  ...  0.145325 -0.325119  0.584397   \n",
              "ADJOE   -0.612410 -0.135564  0.238660  ...  0.108035 -0.343757  0.656954   \n",
              "ADJDE    0.170778 -0.264802 -0.300670  ... -0.112217  0.191314 -0.222889   \n",
              "BARTHAG -0.457690  0.055207  0.303319  ...  0.132977 -0.315761  0.511439   \n",
              "EFG_O   -0.382608 -0.157895 -0.169523  ... -0.060295 -0.381692  0.898690   \n",
              "EFG_D    0.050050 -0.049485 -0.360943  ... -0.212508  0.098540 -0.112840   \n",
              "TOR      1.000000  0.140852  0.166679  ...  0.131914  0.274756 -0.314373   \n",
              "TORD     0.140852  1.000000  0.133030  ...  0.076165  0.342788 -0.097024   \n",
              "ORB      0.166679  0.133030  1.000000  ...  0.316561  0.146962 -0.103850   \n",
              "DRB      0.218575  0.302787  0.056617  ...  0.101476  0.259970 -0.311623   \n",
              "FTR      0.131914  0.076165  0.316561  ...  1.000000  0.246318 -0.020619   \n",
              "FTRD     0.274756  0.342788  0.146962  ...  0.246318  1.000000 -0.370041   \n",
              "2P_O    -0.314373 -0.097024 -0.103850  ... -0.020619 -0.370041  1.000000   \n",
              "2P_D     0.042232  0.003779 -0.358273  ... -0.208174  0.088039 -0.093779   \n",
              "3P_O    -0.331216 -0.182614 -0.169115  ... -0.072248 -0.251978  0.420529   \n",
              "3P_D     0.043686 -0.130751 -0.214153  ... -0.117093  0.091851 -0.107507   \n",
              "ADJ_T   -0.113341 -0.075896 -0.116339  ... -0.020590 -0.033357  0.179804   \n",
              "WAB     -0.456938  0.093859  0.321862  ...  0.174052 -0.317740  0.529034   \n",
              "SEED     0.295071  0.008041 -0.289248  ...  0.100146  0.256322 -0.216727   \n",
              "YEAR    -0.157255 -0.147926 -0.294497  ... -0.336540 -0.284878  0.259636   \n",
              "\n",
              "             2P_D      3P_O      3P_D     ADJ_T       WAB      SEED      YEAR  \n",
              "G       -0.429289  0.217423 -0.359390 -0.033146  0.664089 -0.587325  0.038742  \n",
              "W       -0.524085  0.423510 -0.475145 -0.003791  0.911297 -0.649496  0.089155  \n",
              "ADJOE   -0.289752  0.572047 -0.186695  0.077011  0.839252 -0.745243  0.083150  \n",
              "ADJDE    0.737463 -0.078724  0.575623  0.224616 -0.794511  0.697441  0.092951  \n",
              "BARTHAG -0.579509  0.377816 -0.431773 -0.077318  0.941104 -0.826584 -0.002633  \n",
              "EFG_O   -0.069942  0.767870 -0.074900  0.134885  0.551550 -0.238978  0.235415  \n",
              "EFG_D    0.915149 -0.019252  0.727896  0.285777 -0.614901  0.387082  0.248482  \n",
              "TOR      0.042232 -0.331216  0.043686 -0.113341 -0.456938  0.295071 -0.157255  \n",
              "TORD     0.003779 -0.182614 -0.130751 -0.075896  0.093859  0.008041 -0.147926  \n",
              "ORB     -0.358273 -0.169115 -0.214153 -0.116339  0.321862 -0.289248 -0.294497  \n",
              "DRB      0.162512 -0.244643  0.050006 -0.026524 -0.308972  0.133685 -0.393103  \n",
              "FTR     -0.208174 -0.072248 -0.117093 -0.020590  0.174052  0.100146 -0.336540  \n",
              "FTRD     0.088039 -0.251978  0.091851 -0.033357 -0.317740  0.256322 -0.284878  \n",
              "2P_O    -0.093779  0.420529 -0.107507  0.179804  0.529034 -0.216727  0.259636  \n",
              "2P_D     1.000000 -0.024124  0.397000  0.286826 -0.565813  0.389952  0.257343  \n",
              "3P_O    -0.024124  1.000000 -0.007108  0.020946  0.389754 -0.178969  0.095050  \n",
              "3P_D     0.397000 -0.007108  1.000000  0.162986 -0.450984  0.176999  0.096265  \n",
              "ADJ_T    0.286826  0.020946  0.162986  1.000000 -0.052299  0.045529  0.432041  \n",
              "WAB     -0.565813  0.389754 -0.450984 -0.052299  1.000000 -0.918860 -0.005283  \n",
              "SEED     0.389952 -0.178969  0.176999  0.045529 -0.918860  1.000000 -0.002698  \n",
              "YEAR     0.257343  0.095050  0.096265  0.432041 -0.005283 -0.002698  1.000000  \n",
              "\n",
              "[21 rows x 21 columns]"
            ],
            "text/html": [
              "\n",
              "  <div id=\"df-77419171-16ca-4e41-a330-47166bf9815a\">\n",
              "    <div class=\"colab-df-container\">\n",
              "      <div>\n",
              "<style scoped>\n",
              "    .dataframe tbody tr th:only-of-type {\n",
              "        vertical-align: middle;\n",
              "    }\n",
              "\n",
              "    .dataframe tbody tr th {\n",
              "        vertical-align: top;\n",
              "    }\n",
              "\n",
              "    .dataframe thead th {\n",
              "        text-align: right;\n",
              "    }\n",
              "</style>\n",
              "<table border=\"1\" class=\"dataframe\">\n",
              "  <thead>\n",
              "    <tr style=\"text-align: right;\">\n",
              "      <th></th>\n",
              "      <th>G</th>\n",
              "      <th>W</th>\n",
              "      <th>ADJOE</th>\n",
              "      <th>ADJDE</th>\n",
              "      <th>BARTHAG</th>\n",
              "      <th>EFG_O</th>\n",
              "      <th>EFG_D</th>\n",
              "      <th>TOR</th>\n",
              "      <th>TORD</th>\n",
              "      <th>ORB</th>\n",
              "      <th>...</th>\n",
              "      <th>FTR</th>\n",
              "      <th>FTRD</th>\n",
              "      <th>2P_O</th>\n",
              "      <th>2P_D</th>\n",
              "      <th>3P_O</th>\n",
              "      <th>3P_D</th>\n",
              "      <th>ADJ_T</th>\n",
              "      <th>WAB</th>\n",
              "      <th>SEED</th>\n",
              "      <th>YEAR</th>\n",
              "    </tr>\n",
              "  </thead>\n",
              "  <tbody>\n",
              "    <tr>\n",
              "      <th>G</th>\n",
              "      <td>1.000000</td>\n",
              "      <td>0.724819</td>\n",
              "      <td>0.605112</td>\n",
              "      <td>-0.607700</td>\n",
              "      <td>0.693992</td>\n",
              "      <td>0.337732</td>\n",
              "      <td>-0.472541</td>\n",
              "      <td>-0.320922</td>\n",
              "      <td>0.070594</td>\n",
              "      <td>0.256390</td>\n",
              "      <td>...</td>\n",
              "      <td>0.092973</td>\n",
              "      <td>-0.262477</td>\n",
              "      <td>0.336933</td>\n",
              "      <td>-0.429289</td>\n",
              "      <td>0.217423</td>\n",
              "      <td>-0.359390</td>\n",
              "      <td>-0.033146</td>\n",
              "      <td>0.664089</td>\n",
              "      <td>-0.587325</td>\n",
              "      <td>0.038742</td>\n",
              "    </tr>\n",
              "    <tr>\n",
              "      <th>W</th>\n",
              "      <td>0.724819</td>\n",
              "      <td>1.000000</td>\n",
              "      <td>0.752293</td>\n",
              "      <td>-0.693442</td>\n",
              "      <td>0.827366</td>\n",
              "      <td>0.607659</td>\n",
              "      <td>-0.593197</td>\n",
              "      <td>-0.450942</td>\n",
              "      <td>0.139757</td>\n",
              "      <td>0.284543</td>\n",
              "      <td>...</td>\n",
              "      <td>0.145325</td>\n",
              "      <td>-0.325119</td>\n",
              "      <td>0.584397</td>\n",
              "      <td>-0.524085</td>\n",
              "      <td>0.423510</td>\n",
              "      <td>-0.475145</td>\n",
              "      <td>-0.003791</td>\n",
              "      <td>0.911297</td>\n",
              "      <td>-0.649496</td>\n",
              "      <td>0.089155</td>\n",
              "    </tr>\n",
              "    <tr>\n",
              "      <th>ADJOE</th>\n",
              "      <td>0.605112</td>\n",
              "      <td>0.752293</td>\n",
              "      <td>1.000000</td>\n",
              "      <td>-0.483926</td>\n",
              "      <td>0.860405</td>\n",
              "      <td>0.732286</td>\n",
              "      <td>-0.294531</td>\n",
              "      <td>-0.612410</td>\n",
              "      <td>-0.135564</td>\n",
              "      <td>0.238660</td>\n",
              "      <td>...</td>\n",
              "      <td>0.108035</td>\n",
              "      <td>-0.343757</td>\n",
              "      <td>0.656954</td>\n",
              "      <td>-0.289752</td>\n",
              "      <td>0.572047</td>\n",
              "      <td>-0.186695</td>\n",
              "      <td>0.077011</td>\n",
              "      <td>0.839252</td>\n",
              "      <td>-0.745243</td>\n",
              "      <td>0.083150</td>\n",
              "    </tr>\n",
              "    <tr>\n",
              "      <th>ADJDE</th>\n",
              "      <td>-0.607700</td>\n",
              "      <td>-0.693442</td>\n",
              "      <td>-0.483926</td>\n",
              "      <td>1.000000</td>\n",
              "      <td>-0.837534</td>\n",
              "      <td>-0.188506</td>\n",
              "      <td>0.796335</td>\n",
              "      <td>0.170778</td>\n",
              "      <td>-0.264802</td>\n",
              "      <td>-0.300670</td>\n",
              "      <td>...</td>\n",
              "      <td>-0.112217</td>\n",
              "      <td>0.191314</td>\n",
              "      <td>-0.222889</td>\n",
              "      <td>0.737463</td>\n",
              "      <td>-0.078724</td>\n",
              "      <td>0.575623</td>\n",
              "      <td>0.224616</td>\n",
              "      <td>-0.794511</td>\n",
              "      <td>0.697441</td>\n",
              "      <td>0.092951</td>\n",
              "    </tr>\n",
              "    <tr>\n",
              "      <th>BARTHAG</th>\n",
              "      <td>0.693992</td>\n",
              "      <td>0.827366</td>\n",
              "      <td>0.860405</td>\n",
              "      <td>-0.837534</td>\n",
              "      <td>1.000000</td>\n",
              "      <td>0.534765</td>\n",
              "      <td>-0.616040</td>\n",
              "      <td>-0.457690</td>\n",
              "      <td>0.055207</td>\n",
              "      <td>0.303319</td>\n",
              "      <td>...</td>\n",
              "      <td>0.132977</td>\n",
              "      <td>-0.315761</td>\n",
              "      <td>0.511439</td>\n",
              "      <td>-0.579509</td>\n",
              "      <td>0.377816</td>\n",
              "      <td>-0.431773</td>\n",
              "      <td>-0.077318</td>\n",
              "      <td>0.941104</td>\n",
              "      <td>-0.826584</td>\n",
              "      <td>-0.002633</td>\n",
              "    </tr>\n",
              "    <tr>\n",
              "      <th>EFG_O</th>\n",
              "      <td>0.337732</td>\n",
              "      <td>0.607659</td>\n",
              "      <td>0.732286</td>\n",
              "      <td>-0.188506</td>\n",
              "      <td>0.534765</td>\n",
              "      <td>1.000000</td>\n",
              "      <td>-0.081205</td>\n",
              "      <td>-0.382608</td>\n",
              "      <td>-0.157895</td>\n",
              "      <td>-0.169523</td>\n",
              "      <td>...</td>\n",
              "      <td>-0.060295</td>\n",
              "      <td>-0.381692</td>\n",
              "      <td>0.898690</td>\n",
              "      <td>-0.069942</td>\n",
              "      <td>0.767870</td>\n",
              "      <td>-0.074900</td>\n",
              "      <td>0.134885</td>\n",
              "      <td>0.551550</td>\n",
              "      <td>-0.238978</td>\n",
              "      <td>0.235415</td>\n",
              "    </tr>\n",
              "    <tr>\n",
              "      <th>EFG_D</th>\n",
              "      <td>-0.472541</td>\n",
              "      <td>-0.593197</td>\n",
              "      <td>-0.294531</td>\n",
              "      <td>0.796335</td>\n",
              "      <td>-0.616040</td>\n",
              "      <td>-0.081205</td>\n",
              "      <td>1.000000</td>\n",
              "      <td>0.050050</td>\n",
              "      <td>-0.049485</td>\n",
              "      <td>-0.360943</td>\n",
              "      <td>...</td>\n",
              "      <td>-0.212508</td>\n",
              "      <td>0.098540</td>\n",
              "      <td>-0.112840</td>\n",
              "      <td>0.915149</td>\n",
              "      <td>-0.019252</td>\n",
              "      <td>0.727896</td>\n",
              "      <td>0.285777</td>\n",
              "      <td>-0.614901</td>\n",
              "      <td>0.387082</td>\n",
              "      <td>0.248482</td>\n",
              "    </tr>\n",
              "    <tr>\n",
              "      <th>TOR</th>\n",
              "      <td>-0.320922</td>\n",
              "      <td>-0.450942</td>\n",
              "      <td>-0.612410</td>\n",
              "      <td>0.170778</td>\n",
              "      <td>-0.457690</td>\n",
              "      <td>-0.382608</td>\n",
              "      <td>0.050050</td>\n",
              "      <td>1.000000</td>\n",
              "      <td>0.140852</td>\n",
              "      <td>0.166679</td>\n",
              "      <td>...</td>\n",
              "      <td>0.131914</td>\n",
              "      <td>0.274756</td>\n",
              "      <td>-0.314373</td>\n",
              "      <td>0.042232</td>\n",
              "      <td>-0.331216</td>\n",
              "      <td>0.043686</td>\n",
              "      <td>-0.113341</td>\n",
              "      <td>-0.456938</td>\n",
              "      <td>0.295071</td>\n",
              "      <td>-0.157255</td>\n",
              "    </tr>\n",
              "    <tr>\n",
              "      <th>TORD</th>\n",
              "      <td>0.070594</td>\n",
              "      <td>0.139757</td>\n",
              "      <td>-0.135564</td>\n",
              "      <td>-0.264802</td>\n",
              "      <td>0.055207</td>\n",
              "      <td>-0.157895</td>\n",
              "      <td>-0.049485</td>\n",
              "      <td>0.140852</td>\n",
              "      <td>1.000000</td>\n",
              "      <td>0.133030</td>\n",
              "      <td>...</td>\n",
              "      <td>0.076165</td>\n",
              "      <td>0.342788</td>\n",
              "      <td>-0.097024</td>\n",
              "      <td>0.003779</td>\n",
              "      <td>-0.182614</td>\n",
              "      <td>-0.130751</td>\n",
              "      <td>-0.075896</td>\n",
              "      <td>0.093859</td>\n",
              "      <td>0.008041</td>\n",
              "      <td>-0.147926</td>\n",
              "    </tr>\n",
              "    <tr>\n",
              "      <th>ORB</th>\n",
              "      <td>0.256390</td>\n",
              "      <td>0.284543</td>\n",
              "      <td>0.238660</td>\n",
              "      <td>-0.300670</td>\n",
              "      <td>0.303319</td>\n",
              "      <td>-0.169523</td>\n",
              "      <td>-0.360943</td>\n",
              "      <td>0.166679</td>\n",
              "      <td>0.133030</td>\n",
              "      <td>1.000000</td>\n",
              "      <td>...</td>\n",
              "      <td>0.316561</td>\n",
              "      <td>0.146962</td>\n",
              "      <td>-0.103850</td>\n",
              "      <td>-0.358273</td>\n",
              "      <td>-0.169115</td>\n",
              "      <td>-0.214153</td>\n",
              "      <td>-0.116339</td>\n",
              "      <td>0.321862</td>\n",
              "      <td>-0.289248</td>\n",
              "      <td>-0.294497</td>\n",
              "    </tr>\n",
              "    <tr>\n",
              "      <th>DRB</th>\n",
              "      <td>-0.193746</td>\n",
              "      <td>-0.370802</td>\n",
              "      <td>-0.282303</td>\n",
              "      <td>0.322735</td>\n",
              "      <td>-0.338129</td>\n",
              "      <td>-0.335819</td>\n",
              "      <td>0.135325</td>\n",
              "      <td>0.218575</td>\n",
              "      <td>0.302787</td>\n",
              "      <td>0.056617</td>\n",
              "      <td>...</td>\n",
              "      <td>0.101476</td>\n",
              "      <td>0.259970</td>\n",
              "      <td>-0.311623</td>\n",
              "      <td>0.162512</td>\n",
              "      <td>-0.244643</td>\n",
              "      <td>0.050006</td>\n",
              "      <td>-0.026524</td>\n",
              "      <td>-0.308972</td>\n",
              "      <td>0.133685</td>\n",
              "      <td>-0.393103</td>\n",
              "    </tr>\n",
              "    <tr>\n",
              "      <th>FTR</th>\n",
              "      <td>0.092973</td>\n",
              "      <td>0.145325</td>\n",
              "      <td>0.108035</td>\n",
              "      <td>-0.112217</td>\n",
              "      <td>0.132977</td>\n",
              "      <td>-0.060295</td>\n",
              "      <td>-0.212508</td>\n",
              "      <td>0.131914</td>\n",
              "      <td>0.076165</td>\n",
              "      <td>0.316561</td>\n",
              "      <td>...</td>\n",
              "      <td>1.000000</td>\n",
              "      <td>0.246318</td>\n",
              "      <td>-0.020619</td>\n",
              "      <td>-0.208174</td>\n",
              "      <td>-0.072248</td>\n",
              "      <td>-0.117093</td>\n",
              "      <td>-0.020590</td>\n",
              "      <td>0.174052</td>\n",
              "      <td>0.100146</td>\n",
              "      <td>-0.336540</td>\n",
              "    </tr>\n",
              "    <tr>\n",
              "      <th>FTRD</th>\n",
              "      <td>-0.262477</td>\n",
              "      <td>-0.325119</td>\n",
              "      <td>-0.343757</td>\n",
              "      <td>0.191314</td>\n",
              "      <td>-0.315761</td>\n",
              "      <td>-0.381692</td>\n",
              "      <td>0.098540</td>\n",
              "      <td>0.274756</td>\n",
              "      <td>0.342788</td>\n",
              "      <td>0.146962</td>\n",
              "      <td>...</td>\n",
              "      <td>0.246318</td>\n",
              "      <td>1.000000</td>\n",
              "      <td>-0.370041</td>\n",
              "      <td>0.088039</td>\n",
              "      <td>-0.251978</td>\n",
              "      <td>0.091851</td>\n",
              "      <td>-0.033357</td>\n",
              "      <td>-0.317740</td>\n",
              "      <td>0.256322</td>\n",
              "      <td>-0.284878</td>\n",
              "    </tr>\n",
              "    <tr>\n",
              "      <th>2P_O</th>\n",
              "      <td>0.336933</td>\n",
              "      <td>0.584397</td>\n",
              "      <td>0.656954</td>\n",
              "      <td>-0.222889</td>\n",
              "      <td>0.511439</td>\n",
              "      <td>0.898690</td>\n",
              "      <td>-0.112840</td>\n",
              "      <td>-0.314373</td>\n",
              "      <td>-0.097024</td>\n",
              "      <td>-0.103850</td>\n",
              "      <td>...</td>\n",
              "      <td>-0.020619</td>\n",
              "      <td>-0.370041</td>\n",
              "      <td>1.000000</td>\n",
              "      <td>-0.093779</td>\n",
              "      <td>0.420529</td>\n",
              "      <td>-0.107507</td>\n",
              "      <td>0.179804</td>\n",
              "      <td>0.529034</td>\n",
              "      <td>-0.216727</td>\n",
              "      <td>0.259636</td>\n",
              "    </tr>\n",
              "    <tr>\n",
              "      <th>2P_D</th>\n",
              "      <td>-0.429289</td>\n",
              "      <td>-0.524085</td>\n",
              "      <td>-0.289752</td>\n",
              "      <td>0.737463</td>\n",
              "      <td>-0.579509</td>\n",
              "      <td>-0.069942</td>\n",
              "      <td>0.915149</td>\n",
              "      <td>0.042232</td>\n",
              "      <td>0.003779</td>\n",
              "      <td>-0.358273</td>\n",
              "      <td>...</td>\n",
              "      <td>-0.208174</td>\n",
              "      <td>0.088039</td>\n",
              "      <td>-0.093779</td>\n",
              "      <td>1.000000</td>\n",
              "      <td>-0.024124</td>\n",
              "      <td>0.397000</td>\n",
              "      <td>0.286826</td>\n",
              "      <td>-0.565813</td>\n",
              "      <td>0.389952</td>\n",
              "      <td>0.257343</td>\n",
              "    </tr>\n",
              "    <tr>\n",
              "      <th>3P_O</th>\n",
              "      <td>0.217423</td>\n",
              "      <td>0.423510</td>\n",
              "      <td>0.572047</td>\n",
              "      <td>-0.078724</td>\n",
              "      <td>0.377816</td>\n",
              "      <td>0.767870</td>\n",
              "      <td>-0.019252</td>\n",
              "      <td>-0.331216</td>\n",
              "      <td>-0.182614</td>\n",
              "      <td>-0.169115</td>\n",
              "      <td>...</td>\n",
              "      <td>-0.072248</td>\n",
              "      <td>-0.251978</td>\n",
              "      <td>0.420529</td>\n",
              "      <td>-0.024124</td>\n",
              "      <td>1.000000</td>\n",
              "      <td>-0.007108</td>\n",
              "      <td>0.020946</td>\n",
              "      <td>0.389754</td>\n",
              "      <td>-0.178969</td>\n",
              "      <td>0.095050</td>\n",
              "    </tr>\n",
              "    <tr>\n",
              "      <th>3P_D</th>\n",
              "      <td>-0.359390</td>\n",
              "      <td>-0.475145</td>\n",
              "      <td>-0.186695</td>\n",
              "      <td>0.575623</td>\n",
              "      <td>-0.431773</td>\n",
              "      <td>-0.074900</td>\n",
              "      <td>0.727896</td>\n",
              "      <td>0.043686</td>\n",
              "      <td>-0.130751</td>\n",
              "      <td>-0.214153</td>\n",
              "      <td>...</td>\n",
              "      <td>-0.117093</td>\n",
              "      <td>0.091851</td>\n",
              "      <td>-0.107507</td>\n",
              "      <td>0.397000</td>\n",
              "      <td>-0.007108</td>\n",
              "      <td>1.000000</td>\n",
              "      <td>0.162986</td>\n",
              "      <td>-0.450984</td>\n",
              "      <td>0.176999</td>\n",
              "      <td>0.096265</td>\n",
              "    </tr>\n",
              "    <tr>\n",
              "      <th>ADJ_T</th>\n",
              "      <td>-0.033146</td>\n",
              "      <td>-0.003791</td>\n",
              "      <td>0.077011</td>\n",
              "      <td>0.224616</td>\n",
              "      <td>-0.077318</td>\n",
              "      <td>0.134885</td>\n",
              "      <td>0.285777</td>\n",
              "      <td>-0.113341</td>\n",
              "      <td>-0.075896</td>\n",
              "      <td>-0.116339</td>\n",
              "      <td>...</td>\n",
              "      <td>-0.020590</td>\n",
              "      <td>-0.033357</td>\n",
              "      <td>0.179804</td>\n",
              "      <td>0.286826</td>\n",
              "      <td>0.020946</td>\n",
              "      <td>0.162986</td>\n",
              "      <td>1.000000</td>\n",
              "      <td>-0.052299</td>\n",
              "      <td>0.045529</td>\n",
              "      <td>0.432041</td>\n",
              "    </tr>\n",
              "    <tr>\n",
              "      <th>WAB</th>\n",
              "      <td>0.664089</td>\n",
              "      <td>0.911297</td>\n",
              "      <td>0.839252</td>\n",
              "      <td>-0.794511</td>\n",
              "      <td>0.941104</td>\n",
              "      <td>0.551550</td>\n",
              "      <td>-0.614901</td>\n",
              "      <td>-0.456938</td>\n",
              "      <td>0.093859</td>\n",
              "      <td>0.321862</td>\n",
              "      <td>...</td>\n",
              "      <td>0.174052</td>\n",
              "      <td>-0.317740</td>\n",
              "      <td>0.529034</td>\n",
              "      <td>-0.565813</td>\n",
              "      <td>0.389754</td>\n",
              "      <td>-0.450984</td>\n",
              "      <td>-0.052299</td>\n",
              "      <td>1.000000</td>\n",
              "      <td>-0.918860</td>\n",
              "      <td>-0.005283</td>\n",
              "    </tr>\n",
              "    <tr>\n",
              "      <th>SEED</th>\n",
              "      <td>-0.587325</td>\n",
              "      <td>-0.649496</td>\n",
              "      <td>-0.745243</td>\n",
              "      <td>0.697441</td>\n",
              "      <td>-0.826584</td>\n",
              "      <td>-0.238978</td>\n",
              "      <td>0.387082</td>\n",
              "      <td>0.295071</td>\n",
              "      <td>0.008041</td>\n",
              "      <td>-0.289248</td>\n",
              "      <td>...</td>\n",
              "      <td>0.100146</td>\n",
              "      <td>0.256322</td>\n",
              "      <td>-0.216727</td>\n",
              "      <td>0.389952</td>\n",
              "      <td>-0.178969</td>\n",
              "      <td>0.176999</td>\n",
              "      <td>0.045529</td>\n",
              "      <td>-0.918860</td>\n",
              "      <td>1.000000</td>\n",
              "      <td>-0.002698</td>\n",
              "    </tr>\n",
              "    <tr>\n",
              "      <th>YEAR</th>\n",
              "      <td>0.038742</td>\n",
              "      <td>0.089155</td>\n",
              "      <td>0.083150</td>\n",
              "      <td>0.092951</td>\n",
              "      <td>-0.002633</td>\n",
              "      <td>0.235415</td>\n",
              "      <td>0.248482</td>\n",
              "      <td>-0.157255</td>\n",
              "      <td>-0.147926</td>\n",
              "      <td>-0.294497</td>\n",
              "      <td>...</td>\n",
              "      <td>-0.336540</td>\n",
              "      <td>-0.284878</td>\n",
              "      <td>0.259636</td>\n",
              "      <td>0.257343</td>\n",
              "      <td>0.095050</td>\n",
              "      <td>0.096265</td>\n",
              "      <td>0.432041</td>\n",
              "      <td>-0.005283</td>\n",
              "      <td>-0.002698</td>\n",
              "      <td>1.000000</td>\n",
              "    </tr>\n",
              "  </tbody>\n",
              "</table>\n",
              "<p>21 rows × 21 columns</p>\n",
              "</div>\n",
              "      <button class=\"colab-df-convert\" onclick=\"convertToInteractive('df-77419171-16ca-4e41-a330-47166bf9815a')\"\n",
              "              title=\"Convert this dataframe to an interactive table.\"\n",
              "              style=\"display:none;\">\n",
              "        \n",
              "  <svg xmlns=\"http://www.w3.org/2000/svg\" height=\"24px\"viewBox=\"0 0 24 24\"\n",
              "       width=\"24px\">\n",
              "    <path d=\"M0 0h24v24H0V0z\" fill=\"none\"/>\n",
              "    <path d=\"M18.56 5.44l.94 2.06.94-2.06 2.06-.94-2.06-.94-.94-2.06-.94 2.06-2.06.94zm-11 1L8.5 8.5l.94-2.06 2.06-.94-2.06-.94L8.5 2.5l-.94 2.06-2.06.94zm10 10l.94 2.06.94-2.06 2.06-.94-2.06-.94-.94-2.06-.94 2.06-2.06.94z\"/><path d=\"M17.41 7.96l-1.37-1.37c-.4-.4-.92-.59-1.43-.59-.52 0-1.04.2-1.43.59L10.3 9.45l-7.72 7.72c-.78.78-.78 2.05 0 2.83L4 21.41c.39.39.9.59 1.41.59.51 0 1.02-.2 1.41-.59l7.78-7.78 2.81-2.81c.8-.78.8-2.07 0-2.86zM5.41 20L4 18.59l7.72-7.72 1.47 1.35L5.41 20z\"/>\n",
              "  </svg>\n",
              "      </button>\n",
              "      \n",
              "  <style>\n",
              "    .colab-df-container {\n",
              "      display:flex;\n",
              "      flex-wrap:wrap;\n",
              "      gap: 12px;\n",
              "    }\n",
              "\n",
              "    .colab-df-convert {\n",
              "      background-color: #E8F0FE;\n",
              "      border: none;\n",
              "      border-radius: 50%;\n",
              "      cursor: pointer;\n",
              "      display: none;\n",
              "      fill: #1967D2;\n",
              "      height: 32px;\n",
              "      padding: 0 0 0 0;\n",
              "      width: 32px;\n",
              "    }\n",
              "\n",
              "    .colab-df-convert:hover {\n",
              "      background-color: #E2EBFA;\n",
              "      box-shadow: 0px 1px 2px rgba(60, 64, 67, 0.3), 0px 1px 3px 1px rgba(60, 64, 67, 0.15);\n",
              "      fill: #174EA6;\n",
              "    }\n",
              "\n",
              "    [theme=dark] .colab-df-convert {\n",
              "      background-color: #3B4455;\n",
              "      fill: #D2E3FC;\n",
              "    }\n",
              "\n",
              "    [theme=dark] .colab-df-convert:hover {\n",
              "      background-color: #434B5C;\n",
              "      box-shadow: 0px 1px 3px 1px rgba(0, 0, 0, 0.15);\n",
              "      filter: drop-shadow(0px 1px 2px rgba(0, 0, 0, 0.3));\n",
              "      fill: #FFFFFF;\n",
              "    }\n",
              "  </style>\n",
              "\n",
              "      <script>\n",
              "        const buttonEl =\n",
              "          document.querySelector('#df-77419171-16ca-4e41-a330-47166bf9815a button.colab-df-convert');\n",
              "        buttonEl.style.display =\n",
              "          google.colab.kernel.accessAllowed ? 'block' : 'none';\n",
              "\n",
              "        async function convertToInteractive(key) {\n",
              "          const element = document.querySelector('#df-77419171-16ca-4e41-a330-47166bf9815a');\n",
              "          const dataTable =\n",
              "            await google.colab.kernel.invokeFunction('convertToInteractive',\n",
              "                                                     [key], {});\n",
              "          if (!dataTable) return;\n",
              "\n",
              "          const docLinkHtml = 'Like what you see? Visit the ' +\n",
              "            '<a target=\"_blank\" href=https://colab.research.google.com/notebooks/data_table.ipynb>data table notebook</a>'\n",
              "            + ' to learn more about interactive tables.';\n",
              "          element.innerHTML = '';\n",
              "          dataTable['output_type'] = 'display_data';\n",
              "          await google.colab.output.renderOutput(dataTable, element);\n",
              "          const docLink = document.createElement('div');\n",
              "          docLink.innerHTML = docLinkHtml;\n",
              "          element.appendChild(docLink);\n",
              "        }\n",
              "      </script>\n",
              "    </div>\n",
              "  </div>\n",
              "  "
            ]
          },
          "metadata": {},
          "execution_count": 64
        }
      ]
    },
    {
      "cell_type": "code",
      "source": [
        "df.mean()"
      ],
      "metadata": {
        "colab": {
          "base_uri": "https://localhost:8080/"
        },
        "id": "Tr0YU46eskvI",
        "outputId": "f6f8636d-55d3-485c-a574-d2bb6d2be6c9"
      },
      "execution_count": 40,
      "outputs": [
        {
          "output_type": "stream",
          "name": "stderr",
          "text": [
            "<ipython-input-40-c61f0c8f89b5>:1: FutureWarning: Dropping of nuisance columns in DataFrame reductions (with 'numeric_only=None') is deprecated; in a future version this will raise TypeError.  Select only valid columns before calling the reduction.\n",
            "  df.mean()\n"
          ]
        },
        {
          "output_type": "execute_result",
          "data": {
            "text/plain": [
              "G            31.492464\n",
              "W            16.284318\n",
              "ADJOE       103.304481\n",
              "ADJDE       103.304603\n",
              "BARTHAG       0.493957\n",
              "EFG_O        49.805132\n",
              "EFG_D        50.001385\n",
              "TOR          18.763055\n",
              "TORD         18.689572\n",
              "ORB          29.875642\n",
              "DRB          30.075479\n",
              "FTR          35.989776\n",
              "FTRD         36.269980\n",
              "2P_O         48.802281\n",
              "2P_D         48.976660\n",
              "3P_O         34.406395\n",
              "3P_D         34.598737\n",
              "ADJ_T        67.812301\n",
              "WAB          -7.802485\n",
              "SEED          8.802521\n",
              "YEAR       2016.007332\n",
              "dtype: float64"
            ]
          },
          "metadata": {},
          "execution_count": 40
        }
      ]
    },
    {
      "cell_type": "code",
      "source": [
        "print(\"Win mean:\"+str(df.loc[:,\"W\"].mean()))\n",
        "print(\"2 Point mean:\"+str(df.loc[:,\"2P_O\"].mean()))\n",
        "print(\"3 Point mean:\"+str(df.loc[:,\"3P_O\"].mean()))\n",
        "print(\"Free Throw mean:\"+str(df.loc[:,\"FTR\"].mean()))"
      ],
      "metadata": {
        "colab": {
          "base_uri": "https://localhost:8080/"
        },
        "id": "ROWTey_ss4pa",
        "outputId": "e528c938-d094-488c-8b83-f7554bd27cba"
      },
      "execution_count": 143,
      "outputs": [
        {
          "output_type": "stream",
          "name": "stdout",
          "text": [
            "Win mean:12.060518731988473\n",
            "2 Point mean:49.70201729106628\n",
            "3 Point mean:33.66368876080691\n",
            "Free Throw mean:31.605187319884728\n"
          ]
        }
      ]
    },
    {
      "cell_type": "markdown",
      "source": [
        "Heatmaps!"
      ],
      "metadata": {
        "id": "MqCbSxsLS1nZ"
      }
    },
    {
      "cell_type": "code",
      "source": [
        "#Heatmap for 2-Point Shot & Wins Correlation\n",
        "hmcorrelation2 = df[[\"W\",\"2P_O\"]].corr()\n",
        "hmcorrelation2\n",
        "sns.heatmap(hmcorrelation2,annot=True)"
      ],
      "metadata": {
        "colab": {
          "base_uri": "https://localhost:8080/",
          "height": 345
        },
        "id": "70K1nuYgtgQX",
        "outputId": "106a5a90-14b4-4a04-aa2a-88debcaa22df"
      },
      "execution_count": 134,
      "outputs": [
        {
          "output_type": "execute_result",
          "data": {
            "text/plain": [
              "<matplotlib.axes._subplots.AxesSubplot at 0x7f5d5f27a580>"
            ]
          },
          "metadata": {},
          "execution_count": 134
        },
        {
          "output_type": "display_data",
          "data": {
            "text/plain": [
              "<Figure size 360x360 with 2 Axes>"
            ],
            "image/png": "[encoded data removed]"
          },
          "metadata": {}
        }
      ]
    },
    {
      "cell_type": "code",
      "source": [
        "#Heatmap for 3-Point Shot & Wins Correlation\n",
        "hmcorrelation3 = df[[\"W\",\"3P_O\"]].corr()\n",
        "hmcorrelation3\n",
        "sns.heatmap(hmcorrelation3,annot=True)"
      ],
      "metadata": {
        "colab": {
          "base_uri": "https://localhost:8080/",
          "height": 345
        },
        "id": "IKtolRBMQR7g",
        "outputId": "ef9219af-4ea3-4bcf-e405-3d8ab564f6d6"
      },
      "execution_count": 135,
      "outputs": [
        {
          "output_type": "execute_result",
          "data": {
            "text/plain": [
              "<matplotlib.axes._subplots.AxesSubplot at 0x7f5d5f1c32e0>"
            ]
          },
          "metadata": {},
          "execution_count": 135
        },
        {
          "output_type": "display_data",
          "data": {
            "text/plain": [
              "<Figure size 360x360 with 2 Axes>"
            ],
            "image/png": "[encoded data removed]"
          },
          "metadata": {}
        }
      ]
    },
    {
      "cell_type": "code",
      "source": [
        "#Heatmap for Free Throws & Wins Correlation\n",
        "hmcorrelationft = df[[\"W\",\"FTR\"]].corr()\n",
        "hmcorrelationft\n",
        "sns.heatmap(hmcorrelationft,annot=True)"
      ],
      "metadata": {
        "colab": {
          "base_uri": "https://localhost:8080/",
          "height": 344
        },
        "id": "IthxNf85QRct",
        "outputId": "6bea2178-d824-4831-bc32-cc491eb460bd"
      },
      "execution_count": 136,
      "outputs": [
        {
          "output_type": "execute_result",
          "data": {
            "text/plain": [
              "<matplotlib.axes._subplots.AxesSubplot at 0x7f5d5f14a070>"
            ]
          },
          "metadata": {},
          "execution_count": 136
        },
        {
          "output_type": "display_data",
          "data": {
            "text/plain": [
              "<Figure size 360x360 with 2 Axes>"
            ],
            "image/png": "[encoded data removed]"
          },
          "metadata": {}
        }
      ]
    },
    {
      "cell_type": "markdown",
      "source": [
        "Pairwise Scatter Plots"
      ],
      "metadata": {
        "id": "ZlZRhhM0STVJ"
      }
    },
    {
      "cell_type": "code",
      "source": [
        "#Pairwise scatter plot to view relationships\n",
        "sns.pairplot(df[[\"W\",\"2P_O\"]])\n",
        "sns.pairplot(df[[\"W\",\"3P_O\"]])\n",
        "sns.pairplot(df[[\"W\",\"FTR\"]])"
      ],
      "metadata": {
        "colab": {
          "base_uri": "https://localhost:8080/",
          "height": 1000
        },
        "id": "eq1FQiYctMWJ",
        "outputId": "5e6e9e3e-9dfd-41c3-dbae-e7cd6f40305a"
      },
      "execution_count": 146,
      "outputs": [
        {
          "output_type": "execute_result",
          "data": {
            "text/plain": [
              "<seaborn.axisgrid.PairGrid at 0x7f5d5e9bf250>"
            ]
          },
          "metadata": {},
          "execution_count": 146
        },
        {
          "output_type": "display_data",
          "data": {
            "text/plain": [
              "<Figure size 360x360 with 6 Axes>"
            ],
            "image/png": "[encoded data removed]"
          },
          "metadata": {}
        },
        {
          "output_type": "display_data",
          "data": {
            "text/plain": [
              "<Figure size 360x360 with 6 Axes>"
            ],
            "image/png": "[encoded data removed]"
          },
          "metadata": {}
        },
        {
          "output_type": "display_data",
          "data": {
            "text/plain": [
              "<Figure size 360x360 with 6 Axes>"
            ],
            "image/png": "[encoded data removed]"
          },
          "metadata": {}
        }
      ]
    },
    {
      "cell_type": "markdown",
      "source": [
        "K-Means Clustering"
      ],
      "metadata": {
        "id": "PpTeFs2hTONu"
      }
    },
    {
      "cell_type": "code",
      "source": [
        "from sklearn.cluster import KMeans\n",
        "# Create Kmeans model with 5 clusters\n",
        "kmeans_model= KMeans(n_clusters=5,random_state=1)\n",
        "#Get numeric data and remove columns with missing data\n",
        "good_col = df._get_numeric_data().dropna(axis=1)\n",
        "#Train the model\n",
        "kmeans_model.fit(good_col)\n",
        "#Get cluster label\n",
        "labels = kmeans_model.labels_\n",
        "labels"
      ],
      "metadata": {
        "colab": {
          "base_uri": "https://localhost:8080/"
        },
        "id": "SzBHgtfauHPp",
        "outputId": "bf5895b7-a267-49f0-9a2d-8ad0cee94835"
      },
      "execution_count": 52,
      "outputs": [
        {
          "output_type": "execute_result",
          "data": {
            "text/plain": [
              "array([1, 1, 1, ..., 1, 1, 4], dtype=int32)"
            ]
          },
          "metadata": {},
          "execution_count": 52
        }
      ]
    },
    {
      "cell_type": "code",
      "source": [
        "# Plot teams by clusters\n",
        "from sklearn.decomposition import PCA\n",
        "pca_2 = PCA(2)\n",
        "plot_columns = pca_2.fit_transform(good_col)\n",
        "plt.scatter(x=plot_columns[:,0], y =plot_columns[:,1], c = labels)\n",
        "plt.show()"
      ],
      "metadata": {
        "colab": {
          "base_uri": "https://localhost:8080/",
          "height": 268
        },
        "id": "vYu9rlPovGdq",
        "outputId": "2b4f9834-c396-41fb-b8f0-72cde1158640"
      },
      "execution_count": 55,
      "outputs": [
        {
          "output_type": "display_data",
          "data": {
            "text/plain": [
              "<Figure size 432x288 with 1 Axes>"
            ],
            "image/png": "[encoded data removed]"
          },
          "metadata": {
            "needs_background": "light"
          }
        }
      ]
    },
    {
      "cell_type": "markdown",
      "source": [
        "Top Teams"
      ],
      "metadata": {
        "id": "ct42sUygUO_S"
      }
    },
    {
      "cell_type": "code",
      "source": [
        "#These teams were chosen to represent the top college basketball teams.\n",
        "#Although it is objective depending who you ask, UNC was chosen because I love my school \n",
        "#& Baylor because they are the most recent tournament champions in this data set\n",
        "\n",
        "#Find teams UNC and Baylor from the data set\n",
        "UNC = good_col.loc[df[\"TEAM\"]== \"North Carolina\",:]\n",
        "UNC\n",
        "\n",
        "BaylorT = good_col.loc[df[\"TEAM\"]== \"Baylor\",:]\n",
        "print(UNC)\n",
        "print(BaylorT)\n"
      ],
      "metadata": {
        "colab": {
          "base_uri": "https://localhost:8080/"
        },
        "id": "aNSGoi2bv4h3",
        "outputId": "4c6018ee-4214-4864-d2bd-66b25e18124b"
      },
      "execution_count": 59,
      "outputs": [
        {
          "output_type": "stream",
          "name": "stdout",
          "text": [
            "       G   W  ADJOE  ADJDE  BARTHAG  EFG_O  EFG_D   TOR  TORD   ORB   DRB  \\\n",
            "0     40  33  123.3   94.9   0.9531   52.6   48.1  15.4  18.2  40.7  30.0   \n",
            "9     39  33  121.0   91.5   0.9615   51.7   48.1  16.2  18.6  41.3  25.0   \n",
            "2046  37  26  120.7   97.1   0.9242   52.0   50.1  16.7  16.3  37.4  25.5   \n",
            "2121  34  24  113.4   94.7   0.8883   49.9   47.0  16.9  19.3  38.1  31.3   \n",
            "2140  35  24  111.6   93.0   0.8902   49.3   48.0  17.2  21.5  34.6  31.6   \n",
            "2399  38  26  119.6   92.5   0.9507   51.6   45.4  18.2  17.7  40.0  31.2   \n",
            "2406  36  29  120.1   91.4   0.9582   52.9   48.9  17.2  18.3  35.3  22.8   \n",
            "\n",
            "       FTR  FTRD  2P_O  2P_D  3P_O  3P_D  ADJ_T   WAB  YEAR  \n",
            "0     32.3  30.4  53.9  44.6  32.7  36.2   71.7   8.6  2016  \n",
            "9     34.3  31.6  51.0  46.3  35.5  33.9   72.8   8.4  2017  \n",
            "2046  28.0  26.0  51.0  45.3  35.9  38.0   72.6   7.1  2018  \n",
            "2121  42.9  41.4  49.7  46.7  33.6  31.7   70.8   4.2  2014  \n",
            "2140  28.2  27.1  46.3  46.3  37.2  34.4   71.4   2.5  2013  \n",
            "2399  35.2  37.8  50.9  45.6  35.8  30.0   69.9   6.5  2015  \n",
            "2406  30.2  28.4  52.1  47.9  36.2  33.5   76.0  10.0  2019  \n",
            "       G   W  ADJOE  ADJDE  BARTHAG  EFG_O  EFG_D   TOR  TORD   ORB   DRB  \\\n",
            "314   33  19  110.5   95.5   0.8430   51.8   47.7  19.8  17.2  35.5  29.7   \n",
            "1886  36  22  112.4   95.3   0.8698   51.6   45.7  17.2  18.7  33.5  32.8   \n",
            "2068  34  20  114.6   99.2   0.8400   51.2   49.1  19.7  18.6  37.9  29.4   \n",
            "2186  33  23  116.3   92.7   0.9316   49.8   45.8  20.1  19.3  41.9  31.5   \n",
            "2190  33  21  119.3   99.2   0.8924   51.6   51.2  18.6  19.8  40.0  28.8   \n",
            "2420  34  27  116.4   93.9   0.9226   52.5   46.1  20.6  17.1  39.8  29.4   \n",
            "2444  36  24  119.2   99.5   0.8885   51.3   48.7  17.8  15.8  40.1  32.0   \n",
            "\n",
            "       FTR  FTRD  2P_O  2P_D  3P_O  3P_D  ADJ_T  WAB  YEAR  \n",
            "314   32.2  30.2  51.3  46.2  35.4  33.4   67.6  0.1  2018  \n",
            "1886  36.3  33.3  51.1  44.7  34.9  32.2   67.6 -2.5  2013  \n",
            "2068  32.3  36.5  51.2  47.5  34.1  34.5   66.6  0.9  2019  \n",
            "2186  38.6  32.1  46.1  46.4  38.2  29.8   62.1  5.0  2015  \n",
            "2190  38.6  38.6  49.8  49.1  37.4  36.9   67.4  3.5  2016  \n",
            "2420  33.9  30.1  52.2  45.0  35.3  32.2   65.1  7.9  2017  \n",
            "2444  44.8  32.3  48.3  46.4  38.0  35.6   62.9  3.1  2014  \n"
          ]
        }
      ]
    },
    {
      "cell_type": "code",
      "source": [
        "# Convert Data into lists for Model prediction\n",
        "UNC_list = UNC.values.tolist()\n",
        "BaylorT_list = BaylorT.values.tolist()\n",
        "\n",
        "#Baylor and UNC are in the same cluster 1\n",
        "UNC_cluster = kmeans_model.predict(UNC_list)\n",
        "BaylorT_cluster = kmeans_model.predict(BaylorT_list)\n",
        "\n",
        "print(UNC_cluster)\n",
        "print(BaylorT_cluster)"
      ],
      "metadata": {
        "colab": {
          "base_uri": "https://localhost:8080/"
        },
        "id": "BZj43Z3swj64",
        "outputId": "6d2143d4-6b4a-4c06-f38c-9d3fa80b2df6"
      },
      "execution_count": 63,
      "outputs": [
        {
          "output_type": "stream",
          "name": "stdout",
          "text": [
            "[1 1 1 1 1 1 1]\n",
            "[1 1 1 1 1 1 1]\n"
          ]
        },
        {
          "output_type": "stream",
          "name": "stderr",
          "text": [
            "/usr/local/lib/python3.8/dist-packages/sklearn/base.py:450: UserWarning: X does not have valid feature names, but KMeans was fitted with feature names\n",
            "  warnings.warn(\n",
            "/usr/local/lib/python3.8/dist-packages/sklearn/base.py:450: UserWarning: X does not have valid feature names, but KMeans was fitted with feature names\n",
            "  warnings.warn(\n"
          ]
        }
      ]
    },
    {
      "cell_type": "code",
      "source": [
        "#According to the clustering model, UNC and Baylor are both in the same cluster. This result gave me the confidence to continue with the analysis \n",
        "#as the model deems the these two teams as similar."
      ],
      "metadata": {
        "id": "2NvFWa8TUcmh"
      },
      "execution_count": null,
      "outputs": []
    },
    {
      "cell_type": "markdown",
      "source": [
        "Linear Regression"
      ],
      "metadata": {
        "id": "dsvGW8KmU__z"
      }
    },
    {
      "cell_type": "code",
      "source": [
        "#Linear regression prediction \n",
        "#dependent variable/target = Win\n",
        "#Independent variable = 2P_O/3P_O/FT\n",
        "#split data into 80% training, 20% testing\n",
        "#Predicting the wins per team from past shooting performance \n",
        "from sklearn.model_selection import train_test_split\n",
        "x_train,x_test,y_train,y_test = train_test_split(df[[\"2P_O\"]], df[[\"W\"]], test_size = 0.2, random_state=2)"
      ],
      "metadata": {
        "id": "hg5bF7GAyv0z"
      },
      "execution_count": 176,
      "outputs": []
    },
    {
      "cell_type": "code",
      "source": [
        "# Linear Regression Model\n",
        "from sklearn.linear_model import LinearRegression\n",
        "lr = LinearRegression()\n",
        "#Fit = train, training the model\n",
        "lr.fit(x_train, y_train)\n",
        "#Make predictions \n",
        "predictions = lr.predict(x_test)\n",
        "\n",
        "print(predictions)\n",
        "print(y_test)\n",
        "#Predicting  Wins per team from the 2 Point shooting percentage"
      ],
      "metadata": {
        "colab": {
          "base_uri": "https://localhost:8080/"
        },
        "id": "-7efrzWU0fSG",
        "outputId": "dd0b0d57-45ca-4d23-a228-41776bfe4f2e"
      },
      "execution_count": 177,
      "outputs": [
        {
          "output_type": "stream",
          "name": "stdout",
          "text": [
            "[[ 9.66393843]\n",
            " [10.14489415]\n",
            " [11.26712417]\n",
            " [11.1068056 ]\n",
            " [12.79015063]\n",
            " [12.62983206]\n",
            " [15.75604426]\n",
            " [11.18696489]\n",
            " [ 8.70202698]\n",
            " [11.26712417]\n",
            " [11.34728346]\n",
            " [12.22903562]\n",
            " [13.83222137]\n",
            " [12.3893542 ]\n",
            " [ 9.10282342]\n",
            " [ 8.78218627]\n",
            " [ 9.02266413]\n",
            " [10.62584988]\n",
            " [12.06871705]\n",
            " [11.98855776]\n",
            " [13.83222137]\n",
            " [12.62983206]\n",
            " [12.3893542 ]\n",
            " [14.8742921 ]\n",
            " [11.50760204]\n",
            " [11.58776132]\n",
            " [ 5.81629264]\n",
            " [ 8.70202698]\n",
            " [11.50760204]\n",
            " [ 9.50361985]\n",
            " [12.14887633]\n",
            " [12.70999135]\n",
            " [14.71397353]\n",
            " [ 9.66393843]\n",
            " [ 8.94250484]\n",
            " [11.02664631]\n",
            " [14.79413281]\n",
            " [12.79015063]\n",
            " [23.53149513]\n",
            " [ 9.50361985]\n",
            " [12.06871705]\n",
            " [ 6.6980448 ]\n",
            " [10.4655313 ]\n",
            " [11.34728346]\n",
            " [11.90839847]\n",
            " [12.22903562]\n",
            " [ 9.02266413]\n",
            " [10.14489415]\n",
            " [ 8.94250484]\n",
            " [ 5.89645193]\n",
            " [13.99253994]\n",
            " [16.55763714]\n",
            " [13.11078778]\n",
            " [ 6.53772622]\n",
            " [15.67588498]\n",
            " [ 9.1829827 ]\n",
            " [ 8.14091197]\n",
            " [11.42744275]\n",
            " [11.02664631]\n",
            " [11.82823919]\n",
            " [10.14489415]\n",
            " [ 6.61788551]\n",
            " [12.70999135]\n",
            " [10.06473486]\n",
            " [13.59174351]\n",
            " [12.14887633]\n",
            " [16.1568407 ]\n",
            " [14.71397353]\n",
            " [10.22505344]\n",
            " [11.7480799 ]]\n",
            "      W\n",
            "67   17\n",
            "170   9\n",
            "20   17\n",
            "99    5\n",
            "286  14\n",
            "..   ..\n",
            "315  16\n",
            "35   17\n",
            "317  16\n",
            "70    1\n",
            "10   20\n",
            "\n",
            "[70 rows x 1 columns]\n"
          ]
        }
      ]
    },
    {
      "cell_type": "markdown",
      "source": [
        "Linear Regression Confidence Scores"
      ],
      "metadata": {
        "id": "Ppf7GgplVe0_"
      }
    },
    {
      "cell_type": "code",
      "source": [
        "#Test the model: Score returns the coefficient of determination, R^2 of the predicition \n",
        "lr_confidence = lr.score(x_test, y_test)\n",
        "print(\"lr confidence: \", lr_confidence)"
      ],
      "metadata": {
        "colab": {
          "base_uri": "https://localhost:8080/"
        },
        "id": "TobfwqXm1hjV",
        "outputId": "8308a78d-71d7-4f18-a326-ed06dcc5eee6"
      },
      "execution_count": 178,
      "outputs": [
        {
          "output_type": "stream",
          "name": "stdout",
          "text": [
            "lr confidence:  0.330231404061592\n"
          ]
        }
      ]
    },
    {
      "cell_type": "markdown",
      "source": [
        "2-Point Linear Regression confidence score: 0.330231404061592\n",
        "\n",
        "3-Point Linear Regression confidence score: 0.06545807359020495\n",
        "\n",
        "Free Throw Linear Regression confidence score: -0.033523703026987706"
      ],
      "metadata": {
        "id": "9-ZB75i6XHKJ"
      }
    },
    {
      "cell_type": "markdown",
      "source": [
        "The goal was to have my linear regression scores be close to 1 and the actual results were relatively weak. One interesting takeaway is that 33.02% of the  varience for wins can be explained by a teams 2-point shooting performance.  Unfortunately, I do not have a strong enough model to predict the top teams number of wins based on their past shooting performance.\n",
        "\n"
      ],
      "metadata": {
        "id": "8XdWGGDiZxUm"
      }
    }
  ]
}